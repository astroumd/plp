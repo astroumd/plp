{
 "cells": [
  {
   "cell_type": "code",
   "execution_count": null,
   "metadata": {
    "collapsed": true
   },
   "outputs": [],
   "source": [
    "%matplotlib notebook"
   ]
  },
  {
   "cell_type": "code",
   "execution_count": null,
   "metadata": {
    "collapsed": true
   },
   "outputs": [],
   "source": [
    "import sys\n",
    "sys.path.append(\"..\")"
   ]
  },
  {
   "cell_type": "code",
   "execution_count": null,
   "metadata": {
    "collapsed": true
   },
   "outputs": [],
   "source": [
    "import numpy as np\n",
    "import scipy.ndimage as ni\n"
   ]
  },
  {
   "cell_type": "code",
   "execution_count": null,
   "metadata": {
    "collapsed": true
   },
   "outputs": [],
   "source": [
    "utdate = 20140525\n",
    "band = \"K\""
   ]
  },
  {
   "cell_type": "code",
   "execution_count": null,
   "metadata": {
    "collapsed": true
   },
   "outputs": [],
   "source": [
    "import igrins\n",
    "\n",
    "caldb = igrins.get_caldb(\"../recipe.config\", utdate)\n",
    "recipe_log = igrins.get_recipe_log(caldb)"
   ]
  },
  {
   "cell_type": "code",
   "execution_count": null,
   "metadata": {
    "collapsed": false
   },
   "outputs": [],
   "source": [
    "log_flat = recipe_log.subset(recipe=\"FLAT\")\n",
    "log_flat"
   ]
  },
  {
   "cell_type": "code",
   "execution_count": null,
   "metadata": {
    "collapsed": false
   },
   "outputs": [],
   "source": [
    "obsset = igrins.get_obsset_from_log(caldb, band, log_flat.iloc[0])\n",
    "\n",
    "obsset_off = obsset.get_subset(\"OFF\")\n",
    "obsset_on = obsset.get_subset(\"ON\")\n"
   ]
  },
  {
   "cell_type": "code",
   "execution_count": null,
   "metadata": {
    "collapsed": true
   },
   "outputs": [],
   "source": [
    "from igrins.qa.plots import imshow, imshow2\n",
    "import matplotlib.pyplot as plt"
   ]
  },
  {
   "cell_type": "markdown",
   "metadata": {},
   "source": [
    "## Aperture tracing from Flat On"
   ]
  },
  {
   "cell_type": "code",
   "execution_count": null,
   "metadata": {
    "collapsed": false
   },
   "outputs": [],
   "source": [
    "flat_on = obsset_on.load_image(\"flat_on\")\n",
    "\n",
    "fig = plt.figure()\n",
    "imshow(fig, flat_on, zscale=True)\n"
   ]
  },
  {
   "cell_type": "code",
   "execution_count": null,
   "metadata": {
    "collapsed": false
   },
   "outputs": [],
   "source": [
    "hdu = obsset_on.load_item(\"flat_deriv\")\n",
    "hdu.info()"
   ]
  },
  {
   "cell_type": "code",
   "execution_count": null,
   "metadata": {
    "collapsed": false
   },
   "outputs": [],
   "source": [
    "\n",
    "fig = plt.figure()\n",
    "imshow(fig, hdu[0].data, zscale=True)\n"
   ]
  },
  {
   "cell_type": "code",
   "execution_count": null,
   "metadata": {
    "collapsed": false
   },
   "outputs": [],
   "source": [
    "fig = plt.figure()\n",
    "imshow(fig, hdu[1].data.astype(\"i\") - hdu[2].data, cmap=\"bwr\")\n"
   ]
  },
  {
   "cell_type": "code",
   "execution_count": null,
   "metadata": {
    "collapsed": false
   },
   "outputs": [],
   "source": [
    "trace_dict = obsset_on.load_item(\"flatcentroids_json\")\n",
    "\n",
    "from igrins.libs.flat_qa import check_trace_order\n",
    "fig = plt.figure(figsize=(8, 4))\n",
    "check_trace_order(hdu[0].data, trace_dict, fig, rowcol=(1, 3), title_fontsize=12)\n",
    "\n",
    "for ax in fig.axes:\n",
    "    ax.axis[:].toggle(ticklabels=False)\n",
    "fig.tight_layout()"
   ]
  },
  {
   "cell_type": "code",
   "execution_count": null,
   "metadata": {
    "collapsed": false
   },
   "outputs": [],
   "source": [
    "fig = plt.figure(figsize=(8, 4))\n",
    "check_trace_order(hdu[0].data, trace_dict, fig, rowcol=(1, 3), title_fontsize=12)\n",
    "\n",
    "ax = fig.axes[0]\n",
    "ax.set_xlim(1766, 2048)\n",
    "ax.set_ylim(1766, 2048)\n",
    "\n"
   ]
  }
 ],
 "metadata": {
  "kernelspec": {
   "display_name": "Python [default]",
   "language": "python",
   "name": "python2"
  },
  "language_info": {
   "codemirror_mode": {
    "name": "ipython",
    "version": 2
   },
   "file_extension": ".py",
   "mimetype": "text/x-python",
   "name": "python",
   "nbconvert_exporter": "python",
   "pygments_lexer": "ipython2",
   "version": "2.7.12"
  }
 },
 "nbformat": 4,
 "nbformat_minor": 1
}
